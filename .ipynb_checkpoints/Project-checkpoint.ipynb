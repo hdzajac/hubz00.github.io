{
 "cells": [
  {
   "cell_type": "code",
   "execution_count": 1,
   "metadata": {},
   "outputs": [],
   "source": [
    "import plotly.plotly as py\n",
    "from plotly.graph_objs import *\n",
    "import pandas as pd\n",
    "import numpy as np\n",
    "import re\n",
    "from plotly.offline import download_plotlyjs, init_notebook_mode, plot, iplot"
   ]
  },
  {
   "cell_type": "code",
   "execution_count": 2,
   "metadata": {},
   "outputs": [],
   "source": [
    "\n",
    "\n",
    "def get_year(date):\n",
    "    return int(re.findall('([0-9]{4})', date)[0])\n",
    "\n",
    "\n",
    "df = pd.read_csv('Meteorite_Landings.csv')\n",
    "#df_original = pd.read_csv('set.csv')\n",
    "\n",
    "\n",
    "df.dropna(subset=['year'], inplace=True)\n",
    "\n",
    "\n",
    "df['year'] = df['year'].apply(get_year)\n",
    "\n",
    "df_filtered = df[df['year'].notnull()] "
   ]
  },
  {
   "cell_type": "code",
   "execution_count": 3,
   "metadata": {},
   "outputs": [
    {
     "data": {
      "text/html": [
       "<script type=\"text/javascript\">window.PlotlyConfig = {MathJaxConfig: 'local'};</script><script type=\"text/javascript\">if (window.MathJax) {MathJax.Hub.Config({SVG: {font: \"STIX-Web\"}});}</script><script>requirejs.config({paths: { 'plotly': ['https://cdn.plot.ly/plotly-latest.min']},});if(!window._Plotly) {require(['plotly'],function(plotly) {window._Plotly=plotly;});}</script>"
      ],
      "text/vnd.plotly.v1+html": [
       "<script type=\"text/javascript\">window.PlotlyConfig = {MathJaxConfig: 'local'};</script><script type=\"text/javascript\">if (window.MathJax) {MathJax.Hub.Config({SVG: {font: \"STIX-Web\"}});}</script><script>requirejs.config({paths: { 'plotly': ['https://cdn.plot.ly/plotly-latest.min']},});if(!window._Plotly) {require(['plotly'],function(plotly) {window._Plotly=plotly;});}</script>"
      ]
     },
     "metadata": {},
     "output_type": "display_data"
    },
    {
     "name": "stdout",
     "output_type": "stream",
     "text": [
      "268\n",
      "268\n"
     ]
    }
   ],
   "source": [
    "# https://plot.ly/python/gapminder-example/ I just followed this tutorial\n",
    "#py.sign_in(username='AndreeaStefan', api_key='FtrxEkFZZpyRTSe3XVel')\n",
    "init_notebook_mode(connected=True)\n",
    "\n",
    "years_from_col = set(df_filtered['year'])\n",
    "print(len(years_from_col))\n",
    "years_ints = sorted(list(years_from_col))\n",
    "years = [str(year) for year in years_ints]\n",
    "print(len(years))\n"
   ]
  },
  {
   "cell_type": "code",
   "execution_count": 4,
   "metadata": {},
   "outputs": [
    {
     "name": "stdout",
     "output_type": "stream",
     "text": [
      "['301', '601', '860', '920', '1399', '1490', '1491', '1495', '1519', '1575', '1583', '1600', '1621', '1623', '1628', '1632', '1636', '1637', '1647', '1654', '1662', '1668', '1671', '1688', '1704', '1715', '1716', '1723', '1724', '1740', '1741', '1749', '1750', '1751', '1753', '1766', '1768', '1769', '1773', '1775', '1776', '1779', '1781', '1784', '1785', '1787', '1790', '1791', '1792', '1793', '1794', '1795', '1796', '1797', '1798', '1801', '1803', '1804', '1805', '1806', '1807', '1808', '1809', '1810', '1811', '1812', '1813', '1814', '1815', '1817', '1818', '1819', '1820', '1821', '1822', '1823', '1824', '1825', '1826', '1827', '1828', '1829', '1830', '1831', '1832', '1833', '1834', '1835', '1836', '1837', '1838', '1839', '1840', '1841', '1842', '1843', '1844', '1845', '1846', '1847', '1848', '1849', '1850', '1851', '1852', '1853', '1854', '1855', '1856', '1857', '1858', '1859', '1860', '1861', '1862', '1863', '1864', '1865', '1866', '1867', '1868', '1869', '1870', '1871', '1872', '1873', '1874', '1875', '1876', '1877', '1878', '1879', '1880', '1881', '1882', '1883', '1884', '1885', '1886', '1887', '1888', '1889', '1890', '1891', '1892', '1893', '1894', '1895', '1896', '1897', '1898', '1899', '1900', '1901', '1902', '1903', '1904', '1905', '1906', '1907', '1908', '1909', '1910', '1911', '1912', '1913', '1914', '1915', '1916', '1917', '1918', '1919', '1920', '1921', '1922', '1923', '1924', '1925', '1926', '1927', '1928', '1929', '1930', '1931', '1932', '1933', '1934', '1935', '1936', '1937', '1938', '1939', '1940', '1941', '1942', '1943', '1944', '1945', '1946', '1947', '1948', '1949', '1950', '1951', '1952', '1953', '1954', '1955', '1956', '1957', '1958', '1959', '1960', '1961', '1962', '1963', '1964', '1965', '1966', '1967', '1968', '1969', '1970', '1971', '1972', '1973', '1974', '1975', '1976', '1977', '1978', '1979', '1980', '1981', '1982', '1983', '1984', '1985', '1986', '1987', '1988', '1989', '1990', '1991', '1992', '1993', '1994', '1995', '1996', '1997', '1998', '1999', '2000', '2001', '2002', '2003', '2004', '2005', '2006', '2007', '2008', '2009', '2010', '2011', '2012', '2013', '2101', '2501']\n",
      "250\n"
     ]
    }
   ],
   "source": [
    "# make grid\n",
    "import time\n",
    "from plotly.grid_objs import Grid, Column\n",
    "\n",
    "columns = []\n",
    "print(years)\n",
    "count = 0\n",
    "for year in years:\n",
    "    if (int(year) > 1990):\n",
    "        \n",
    "        dataset_by_year = df_filtered[df_filtered['year'] == float(year)]\n",
    "\n",
    "\n",
    "        for col_name in dataset_by_year:\n",
    "            count += 1\n",
    "            # each column name is unique\n",
    "            column_name = '{year}_{header}__project_grid'.format(\n",
    "                year=year, header=col_name\n",
    "            )\n",
    "            a_column = Column(list(dataset_by_year[col_name]), column_name)\n",
    "            columns.append(a_column)\n",
    "print(count)\n",
    "# upload grid\n",
    "grid = Grid(columns)\n",
    "#url = py.grid_ops.upload(grid, 'project_grid'+str(time.time()), auto_open=False)\n",
    "#url"
   ]
  },
  {
   "cell_type": "code",
   "execution_count": 5,
   "metadata": {},
   "outputs": [],
   "source": [
    "sliders_dict = {\n",
    "    'active': 0,\n",
    "    'yanchor': 'bottom',\n",
    "    'xanchor': 'left',\n",
    "    'currentvalue': {\n",
    "        'font': {'size': 20},\n",
    "        'prefix': 'Year:',\n",
    "        'visible': True,\n",
    "        'xanchor': 'right'\n",
    "    },\n",
    "    'transition': {'duration': 300, 'easing': 'cubic-in-out'},\n",
    "    'pad': {'b': 10, 't': 50},\n",
    "    'len': 0.9,\n",
    "    'x': 0.1,\n",
    "    'y': 0,\n",
    "    'steps': []\n",
    "}\n"
   ]
  },
  {
   "cell_type": "code",
   "execution_count": 14,
   "metadata": {},
   "outputs": [],
   "source": [
    "mapbox_access_token = 'pk.eyJ1IjoiYW5kcmVlYTA4IiwiYSI6ImNqcXc4dzJicjBzcGQ0OW1xOGxhNG92YzMifQ.oVTjccSQQLufk2dM1HtKjw'\n",
    "figure = {\n",
    "  'data': [],\n",
    "  'layout' : {\n",
    "          \"autosize\": True, \n",
    "          \"mapbox\": {\n",
    "            \"bearing\": 0, \n",
    "            \"center\": {\n",
    "              \"lat\": 5.00882887666, \n",
    "              \"lon\": -88.8235877181\n",
    "            }, \n",
    "            \"pitch\": 0, \n",
    "            \"zoom\": 0\n",
    "          }, \n",
    "          \"xaxis\": {\n",
    "            \"autorange\": True, \n",
    "            \"range\": [-1, 6]\n",
    "          }, \n",
    "          \"yaxis\": {\n",
    "            \"autorange\": True, \n",
    "            \"range\": [-1, 4]\n",
    "          },\n",
    "         'mapbox':  {'accesstoken': mapbox_access_token,\n",
    "                    }\n",
    "          \n",
    "    },\n",
    "    'frames': [],\n",
    "}\n",
    "\n",
    "\n",
    "\n",
    "col_name_template = '{year}_{header}__project_grid'\n",
    "for year in years:\n",
    "    if (int(year) > 2005):\n",
    "        frame = {'data': [], 'name': str(year)}\n",
    "\n",
    "        data_dict = {\n",
    "            \"latsrc\": grid.get_column_reference(col_name_template.format(\n",
    "            year=year, header='reclat'\n",
    "            )),\n",
    "            \"lonsrc\": grid.get_column_reference(col_name_template.format(\n",
    "                year=year,  header='reclong'\n",
    "                )),\n",
    "            'textsrc': grid.get_column_reference(col_name_template.format(\n",
    "                    year=year,  header='year'\n",
    "                    )),\n",
    "            \"marker\": {\n",
    "            \"color\": \"rgb(124, 31, 180)\", \n",
    "            \"opacity\": 0.56, \n",
    "            \"sizemin\": 2, \n",
    "            },\n",
    "          \"mode\": \"markers\", \n",
    "          \"type\": \"scattermapbox\"\n",
    "        }\n",
    "\n",
    "        frame['data'].append(data_dict)\n",
    "\n",
    "        figure['frames'].append(frame)\n",
    "\n",
    "        slider_step = {'args': [\n",
    "            [year],\n",
    "            {'frame': {'duration': 300, 'redraw': True},\n",
    "             'mode': 'immediate',\n",
    "           'transition': {'duration': 300}}\n",
    "         ],\n",
    "         'label': year.split('.')[0],\n",
    "         'method': 'animate'}\n",
    "\n",
    "        sliders_dict['steps'].append(slider_step)\n",
    "\n",
    "figure['layout']['sliders'] = [sliders_dict]       \n",
    "\n"
   ]
  },
  {
   "cell_type": "code",
   "execution_count": null,
   "metadata": {},
   "outputs": [],
   "source": [
    "print(figure['frame'])"
   ]
  },
  {
   "cell_type": "code",
   "execution_count": 15,
   "metadata": {},
   "outputs": [
    {
     "data": {
      "application/vnd.plotly.v1+json": {
       "config": {
        "linkText": "Export to plot.ly",
        "plotlyServerURL": "https://plot.ly",
        "showLink": false
       },
       "data": [
        {
         "latsrc": "",
         "lonsrc": "",
         "marker": {
          "color": "rgb(124, 31, 180)",
          "opacity": 0.56,
          "sizemin": 2
         },
         "mode": "markers",
         "textsrc": "",
         "type": "scattermapbox",
         "uid": "0d2440fb-87c9-42ef-a848-8434cbb5fb87"
        }
       ],
       "frames": [
        {
         "data": [
          {
           "latsrc": "",
           "lonsrc": "",
           "marker": {
            "color": "rgb(124, 31, 180)",
            "opacity": 0.56,
            "sizemin": 2
           },
           "mode": "markers",
           "textsrc": "",
           "type": "scattermapbox"
          }
         ],
         "name": "2006"
        },
        {
         "data": [
          {
           "latsrc": "",
           "lonsrc": "",
           "marker": {
            "color": "rgb(124, 31, 180)",
            "opacity": 0.56,
            "sizemin": 2
           },
           "mode": "markers",
           "textsrc": "",
           "type": "scattermapbox"
          }
         ],
         "name": "2007"
        },
        {
         "data": [
          {
           "latsrc": "",
           "lonsrc": "",
           "marker": {
            "color": "rgb(124, 31, 180)",
            "opacity": 0.56,
            "sizemin": 2
           },
           "mode": "markers",
           "textsrc": "",
           "type": "scattermapbox"
          }
         ],
         "name": "2008"
        },
        {
         "data": [
          {
           "latsrc": "",
           "lonsrc": "",
           "marker": {
            "color": "rgb(124, 31, 180)",
            "opacity": 0.56,
            "sizemin": 2
           },
           "mode": "markers",
           "textsrc": "",
           "type": "scattermapbox"
          }
         ],
         "name": "2009"
        },
        {
         "data": [
          {
           "latsrc": "",
           "lonsrc": "",
           "marker": {
            "color": "rgb(124, 31, 180)",
            "opacity": 0.56,
            "sizemin": 2
           },
           "mode": "markers",
           "textsrc": "",
           "type": "scattermapbox"
          }
         ],
         "name": "2010"
        },
        {
         "data": [
          {
           "latsrc": "",
           "lonsrc": "",
           "marker": {
            "color": "rgb(124, 31, 180)",
            "opacity": 0.56,
            "sizemin": 2
           },
           "mode": "markers",
           "textsrc": "",
           "type": "scattermapbox"
          }
         ],
         "name": "2011"
        },
        {
         "data": [
          {
           "latsrc": "",
           "lonsrc": "",
           "marker": {
            "color": "rgb(124, 31, 180)",
            "opacity": 0.56,
            "sizemin": 2
           },
           "mode": "markers",
           "textsrc": "",
           "type": "scattermapbox"
          }
         ],
         "name": "2012"
        },
        {
         "data": [
          {
           "latsrc": "",
           "lonsrc": "",
           "marker": {
            "color": "rgb(124, 31, 180)",
            "opacity": 0.56,
            "sizemin": 2
           },
           "mode": "markers",
           "textsrc": "",
           "type": "scattermapbox"
          }
         ],
         "name": "2013"
        },
        {
         "data": [
          {
           "latsrc": "",
           "lonsrc": "",
           "marker": {
            "color": "rgb(124, 31, 180)",
            "opacity": 0.56,
            "sizemin": 2
           },
           "mode": "markers",
           "textsrc": "",
           "type": "scattermapbox"
          }
         ],
         "name": "2101"
        },
        {
         "data": [
          {
           "latsrc": "",
           "lonsrc": "",
           "marker": {
            "color": "rgb(124, 31, 180)",
            "opacity": 0.56,
            "sizemin": 2
           },
           "mode": "markers",
           "textsrc": "",
           "type": "scattermapbox"
          }
         ],
         "name": "2501"
        }
       ],
       "layout": {
        "autosize": true,
        "mapbox": {
         "accesstoken": "pk.eyJ1IjoiYW5kcmVlYTA4IiwiYSI6ImNqcXc4dzJicjBzcGQ0OW1xOGxhNG92YzMifQ.oVTjccSQQLufk2dM1HtKjw"
        },
        "sliders": [
         {
          "active": 0,
          "currentvalue": {
           "font": {
            "size": 20
           },
           "prefix": "Year:",
           "visible": true,
           "xanchor": "right"
          },
          "len": 0.9,
          "pad": {
           "b": 10,
           "t": 50
          },
          "steps": [
           {
            "args": [
             [
              "2006"
             ],
             {
              "frame": {
               "duration": 300,
               "redraw": true
              },
              "mode": "immediate",
              "transition": {
               "duration": 300
              }
             }
            ],
            "label": "2006",
            "method": "animate"
           },
           {
            "args": [
             [
              "2007"
             ],
             {
              "frame": {
               "duration": 300,
               "redraw": true
              },
              "mode": "immediate",
              "transition": {
               "duration": 300
              }
             }
            ],
            "label": "2007",
            "method": "animate"
           },
           {
            "args": [
             [
              "2008"
             ],
             {
              "frame": {
               "duration": 300,
               "redraw": true
              },
              "mode": "immediate",
              "transition": {
               "duration": 300
              }
             }
            ],
            "label": "2008",
            "method": "animate"
           },
           {
            "args": [
             [
              "2009"
             ],
             {
              "frame": {
               "duration": 300,
               "redraw": true
              },
              "mode": "immediate",
              "transition": {
               "duration": 300
              }
             }
            ],
            "label": "2009",
            "method": "animate"
           },
           {
            "args": [
             [
              "2010"
             ],
             {
              "frame": {
               "duration": 300,
               "redraw": true
              },
              "mode": "immediate",
              "transition": {
               "duration": 300
              }
             }
            ],
            "label": "2010",
            "method": "animate"
           },
           {
            "args": [
             [
              "2011"
             ],
             {
              "frame": {
               "duration": 300,
               "redraw": true
              },
              "mode": "immediate",
              "transition": {
               "duration": 300
              }
             }
            ],
            "label": "2011",
            "method": "animate"
           },
           {
            "args": [
             [
              "2012"
             ],
             {
              "frame": {
               "duration": 300,
               "redraw": true
              },
              "mode": "immediate",
              "transition": {
               "duration": 300
              }
             }
            ],
            "label": "2012",
            "method": "animate"
           },
           {
            "args": [
             [
              "2013"
             ],
             {
              "frame": {
               "duration": 300,
               "redraw": true
              },
              "mode": "immediate",
              "transition": {
               "duration": 300
              }
             }
            ],
            "label": "2013",
            "method": "animate"
           },
           {
            "args": [
             [
              "2101"
             ],
             {
              "frame": {
               "duration": 300,
               "redraw": true
              },
              "mode": "immediate",
              "transition": {
               "duration": 300
              }
             }
            ],
            "label": "2101",
            "method": "animate"
           },
           {
            "args": [
             [
              "2501"
             ],
             {
              "frame": {
               "duration": 300,
               "redraw": true
              },
              "mode": "immediate",
              "transition": {
               "duration": 300
              }
             }
            ],
            "label": "2501",
            "method": "animate"
           },
           {
            "args": [
             [
              "2006"
             ],
             {
              "frame": {
               "duration": 300,
               "redraw": true
              },
              "mode": "immediate",
              "transition": {
               "duration": 300
              }
             }
            ],
            "label": "2006",
            "method": "animate"
           },
           {
            "args": [
             [
              "2007"
             ],
             {
              "frame": {
               "duration": 300,
               "redraw": true
              },
              "mode": "immediate",
              "transition": {
               "duration": 300
              }
             }
            ],
            "label": "2007",
            "method": "animate"
           },
           {
            "args": [
             [
              "2008"
             ],
             {
              "frame": {
               "duration": 300,
               "redraw": true
              },
              "mode": "immediate",
              "transition": {
               "duration": 300
              }
             }
            ],
            "label": "2008",
            "method": "animate"
           },
           {
            "args": [
             [
              "2009"
             ],
             {
              "frame": {
               "duration": 300,
               "redraw": true
              },
              "mode": "immediate",
              "transition": {
               "duration": 300
              }
             }
            ],
            "label": "2009",
            "method": "animate"
           },
           {
            "args": [
             [
              "2010"
             ],
             {
              "frame": {
               "duration": 300,
               "redraw": true
              },
              "mode": "immediate",
              "transition": {
               "duration": 300
              }
             }
            ],
            "label": "2010",
            "method": "animate"
           },
           {
            "args": [
             [
              "2011"
             ],
             {
              "frame": {
               "duration": 300,
               "redraw": true
              },
              "mode": "immediate",
              "transition": {
               "duration": 300
              }
             }
            ],
            "label": "2011",
            "method": "animate"
           },
           {
            "args": [
             [
              "2012"
             ],
             {
              "frame": {
               "duration": 300,
               "redraw": true
              },
              "mode": "immediate",
              "transition": {
               "duration": 300
              }
             }
            ],
            "label": "2012",
            "method": "animate"
           },
           {
            "args": [
             [
              "2013"
             ],
             {
              "frame": {
               "duration": 300,
               "redraw": true
              },
              "mode": "immediate",
              "transition": {
               "duration": 300
              }
             }
            ],
            "label": "2013",
            "method": "animate"
           },
           {
            "args": [
             [
              "2101"
             ],
             {
              "frame": {
               "duration": 300,
               "redraw": true
              },
              "mode": "immediate",
              "transition": {
               "duration": 300
              }
             }
            ],
            "label": "2101",
            "method": "animate"
           },
           {
            "args": [
             [
              "2501"
             ],
             {
              "frame": {
               "duration": 300,
               "redraw": true
              },
              "mode": "immediate",
              "transition": {
               "duration": 300
              }
             }
            ],
            "label": "2501",
            "method": "animate"
           },
           {
            "args": [
             [
              "2006"
             ],
             {
              "frame": {
               "duration": 300,
               "redraw": true
              },
              "mode": "immediate",
              "transition": {
               "duration": 300
              }
             }
            ],
            "label": "2006",
            "method": "animate"
           },
           {
            "args": [
             [
              "2007"
             ],
             {
              "frame": {
               "duration": 300,
               "redraw": true
              },
              "mode": "immediate",
              "transition": {
               "duration": 300
              }
             }
            ],
            "label": "2007",
            "method": "animate"
           },
           {
            "args": [
             [
              "2008"
             ],
             {
              "frame": {
               "duration": 300,
               "redraw": true
              },
              "mode": "immediate",
              "transition": {
               "duration": 300
              }
             }
            ],
            "label": "2008",
            "method": "animate"
           },
           {
            "args": [
             [
              "2009"
             ],
             {
              "frame": {
               "duration": 300,
               "redraw": true
              },
              "mode": "immediate",
              "transition": {
               "duration": 300
              }
             }
            ],
            "label": "2009",
            "method": "animate"
           },
           {
            "args": [
             [
              "2010"
             ],
             {
              "frame": {
               "duration": 300,
               "redraw": true
              },
              "mode": "immediate",
              "transition": {
               "duration": 300
              }
             }
            ],
            "label": "2010",
            "method": "animate"
           },
           {
            "args": [
             [
              "2011"
             ],
             {
              "frame": {
               "duration": 300,
               "redraw": true
              },
              "mode": "immediate",
              "transition": {
               "duration": 300
              }
             }
            ],
            "label": "2011",
            "method": "animate"
           },
           {
            "args": [
             [
              "2012"
             ],
             {
              "frame": {
               "duration": 300,
               "redraw": true
              },
              "mode": "immediate",
              "transition": {
               "duration": 300
              }
             }
            ],
            "label": "2012",
            "method": "animate"
           },
           {
            "args": [
             [
              "2013"
             ],
             {
              "frame": {
               "duration": 300,
               "redraw": true
              },
              "mode": "immediate",
              "transition": {
               "duration": 300
              }
             }
            ],
            "label": "2013",
            "method": "animate"
           },
           {
            "args": [
             [
              "2101"
             ],
             {
              "frame": {
               "duration": 300,
               "redraw": true
              },
              "mode": "immediate",
              "transition": {
               "duration": 300
              }
             }
            ],
            "label": "2101",
            "method": "animate"
           },
           {
            "args": [
             [
              "2501"
             ],
             {
              "frame": {
               "duration": 300,
               "redraw": true
              },
              "mode": "immediate",
              "transition": {
               "duration": 300
              }
             }
            ],
            "label": "2501",
            "method": "animate"
           }
          ],
          "transition": {
           "duration": 300,
           "easing": "cubic-in-out"
          },
          "x": 0.1,
          "xanchor": "left",
          "y": 0,
          "yanchor": "bottom"
         }
        ],
        "xaxis": {
         "autorange": true,
         "range": [
          -1,
          6
         ]
        },
        "yaxis": {
         "autorange": true,
         "range": [
          -1,
          4
         ]
        }
       }
      },
      "text/html": [
       "<div id=\"2e697325-bc86-4ea8-9745-7d7a592dab31\" style=\"height: 525px; width: 100%;\" class=\"plotly-graph-div\"></div><script type=\"text/javascript\">require([\"plotly\"], function(Plotly) { window.PLOTLYENV=window.PLOTLYENV || {};window.PLOTLYENV.BASE_URL=\"https://plot.ly\";\n",
       "        Plotly.plot(\n",
       "            '2e697325-bc86-4ea8-9745-7d7a592dab31',\n",
       "            [{\"latsrc\": \"\", \"lonsrc\": \"\", \"marker\": {\"color\": \"rgb(124, 31, 180)\", \"opacity\": 0.56, \"sizemin\": 2}, \"mode\": \"markers\", \"textsrc\": \"\", \"type\": \"scattermapbox\", \"uid\": \"b1bd1716-83a3-4ba3-aadb-4cad7057b5a6\"}],\n",
       "            {\"autosize\": true, \"mapbox\": {\"accesstoken\": \"pk.eyJ1IjoiYW5kcmVlYTA4IiwiYSI6ImNqcXc4dzJicjBzcGQ0OW1xOGxhNG92YzMifQ.oVTjccSQQLufk2dM1HtKjw\"}, \"sliders\": [{\"active\": 0, \"currentvalue\": {\"font\": {\"size\": 20}, \"prefix\": \"Year:\", \"visible\": true, \"xanchor\": \"right\"}, \"len\": 0.9, \"pad\": {\"b\": 10, \"t\": 50}, \"steps\": [{\"args\": [[\"2006\"], {\"frame\": {\"duration\": 300, \"redraw\": true}, \"mode\": \"immediate\", \"transition\": {\"duration\": 300}}], \"label\": \"2006\", \"method\": \"animate\"}, {\"args\": [[\"2007\"], {\"frame\": {\"duration\": 300, \"redraw\": true}, \"mode\": \"immediate\", \"transition\": {\"duration\": 300}}], \"label\": \"2007\", \"method\": \"animate\"}, {\"args\": [[\"2008\"], {\"frame\": {\"duration\": 300, \"redraw\": true}, \"mode\": \"immediate\", \"transition\": {\"duration\": 300}}], \"label\": \"2008\", \"method\": \"animate\"}, {\"args\": [[\"2009\"], {\"frame\": {\"duration\": 300, \"redraw\": true}, \"mode\": \"immediate\", \"transition\": {\"duration\": 300}}], \"label\": \"2009\", \"method\": \"animate\"}, {\"args\": [[\"2010\"], {\"frame\": {\"duration\": 300, \"redraw\": true}, \"mode\": \"immediate\", \"transition\": {\"duration\": 300}}], \"label\": \"2010\", \"method\": \"animate\"}, {\"args\": [[\"2011\"], {\"frame\": {\"duration\": 300, \"redraw\": true}, \"mode\": \"immediate\", \"transition\": {\"duration\": 300}}], \"label\": \"2011\", \"method\": \"animate\"}, {\"args\": [[\"2012\"], {\"frame\": {\"duration\": 300, \"redraw\": true}, \"mode\": \"immediate\", \"transition\": {\"duration\": 300}}], \"label\": \"2012\", \"method\": \"animate\"}, {\"args\": [[\"2013\"], {\"frame\": {\"duration\": 300, \"redraw\": true}, \"mode\": \"immediate\", \"transition\": {\"duration\": 300}}], \"label\": \"2013\", \"method\": \"animate\"}, {\"args\": [[\"2101\"], {\"frame\": {\"duration\": 300, \"redraw\": true}, \"mode\": \"immediate\", \"transition\": {\"duration\": 300}}], \"label\": \"2101\", \"method\": \"animate\"}, {\"args\": [[\"2501\"], {\"frame\": {\"duration\": 300, \"redraw\": true}, \"mode\": \"immediate\", \"transition\": {\"duration\": 300}}], \"label\": \"2501\", \"method\": \"animate\"}, {\"args\": [[\"2006\"], {\"frame\": {\"duration\": 300, \"redraw\": true}, \"mode\": \"immediate\", \"transition\": {\"duration\": 300}}], \"label\": \"2006\", \"method\": \"animate\"}, {\"args\": [[\"2007\"], {\"frame\": {\"duration\": 300, \"redraw\": true}, \"mode\": \"immediate\", \"transition\": {\"duration\": 300}}], \"label\": \"2007\", \"method\": \"animate\"}, {\"args\": [[\"2008\"], {\"frame\": {\"duration\": 300, \"redraw\": true}, \"mode\": \"immediate\", \"transition\": {\"duration\": 300}}], \"label\": \"2008\", \"method\": \"animate\"}, {\"args\": [[\"2009\"], {\"frame\": {\"duration\": 300, \"redraw\": true}, \"mode\": \"immediate\", \"transition\": {\"duration\": 300}}], \"label\": \"2009\", \"method\": \"animate\"}, {\"args\": [[\"2010\"], {\"frame\": {\"duration\": 300, \"redraw\": true}, \"mode\": \"immediate\", \"transition\": {\"duration\": 300}}], \"label\": \"2010\", \"method\": \"animate\"}, {\"args\": [[\"2011\"], {\"frame\": {\"duration\": 300, \"redraw\": true}, \"mode\": \"immediate\", \"transition\": {\"duration\": 300}}], \"label\": \"2011\", \"method\": \"animate\"}, {\"args\": [[\"2012\"], {\"frame\": {\"duration\": 300, \"redraw\": true}, \"mode\": \"immediate\", \"transition\": {\"duration\": 300}}], \"label\": \"2012\", \"method\": \"animate\"}, {\"args\": [[\"2013\"], {\"frame\": {\"duration\": 300, \"redraw\": true}, \"mode\": \"immediate\", \"transition\": {\"duration\": 300}}], \"label\": \"2013\", \"method\": \"animate\"}, {\"args\": [[\"2101\"], {\"frame\": {\"duration\": 300, \"redraw\": true}, \"mode\": \"immediate\", \"transition\": {\"duration\": 300}}], \"label\": \"2101\", \"method\": \"animate\"}, {\"args\": [[\"2501\"], {\"frame\": {\"duration\": 300, \"redraw\": true}, \"mode\": \"immediate\", \"transition\": {\"duration\": 300}}], \"label\": \"2501\", \"method\": \"animate\"}, {\"args\": [[\"2006\"], {\"frame\": {\"duration\": 300, \"redraw\": true}, \"mode\": \"immediate\", \"transition\": {\"duration\": 300}}], \"label\": \"2006\", \"method\": \"animate\"}, {\"args\": [[\"2007\"], {\"frame\": {\"duration\": 300, \"redraw\": true}, \"mode\": \"immediate\", \"transition\": {\"duration\": 300}}], \"label\": \"2007\", \"method\": \"animate\"}, {\"args\": [[\"2008\"], {\"frame\": {\"duration\": 300, \"redraw\": true}, \"mode\": \"immediate\", \"transition\": {\"duration\": 300}}], \"label\": \"2008\", \"method\": \"animate\"}, {\"args\": [[\"2009\"], {\"frame\": {\"duration\": 300, \"redraw\": true}, \"mode\": \"immediate\", \"transition\": {\"duration\": 300}}], \"label\": \"2009\", \"method\": \"animate\"}, {\"args\": [[\"2010\"], {\"frame\": {\"duration\": 300, \"redraw\": true}, \"mode\": \"immediate\", \"transition\": {\"duration\": 300}}], \"label\": \"2010\", \"method\": \"animate\"}, {\"args\": [[\"2011\"], {\"frame\": {\"duration\": 300, \"redraw\": true}, \"mode\": \"immediate\", \"transition\": {\"duration\": 300}}], \"label\": \"2011\", \"method\": \"animate\"}, {\"args\": [[\"2012\"], {\"frame\": {\"duration\": 300, \"redraw\": true}, \"mode\": \"immediate\", \"transition\": {\"duration\": 300}}], \"label\": \"2012\", \"method\": \"animate\"}, {\"args\": [[\"2013\"], {\"frame\": {\"duration\": 300, \"redraw\": true}, \"mode\": \"immediate\", \"transition\": {\"duration\": 300}}], \"label\": \"2013\", \"method\": \"animate\"}, {\"args\": [[\"2101\"], {\"frame\": {\"duration\": 300, \"redraw\": true}, \"mode\": \"immediate\", \"transition\": {\"duration\": 300}}], \"label\": \"2101\", \"method\": \"animate\"}, {\"args\": [[\"2501\"], {\"frame\": {\"duration\": 300, \"redraw\": true}, \"mode\": \"immediate\", \"transition\": {\"duration\": 300}}], \"label\": \"2501\", \"method\": \"animate\"}], \"transition\": {\"duration\": 300, \"easing\": \"cubic-in-out\"}, \"x\": 0.1, \"xanchor\": \"left\", \"y\": 0, \"yanchor\": \"bottom\"}], \"xaxis\": {\"autorange\": true, \"range\": [-1, 6]}, \"yaxis\": {\"autorange\": true, \"range\": [-1, 4]}},\n",
       "            {\"showLink\": false, \"linkText\": \"Export to plot.ly\", \"plotlyServerURL\": \"https://plot.ly\"}\n",
       "        ).then(function () {return Plotly.addFrames('2e697325-bc86-4ea8-9745-7d7a592dab31',[{\"data\": [{\"latsrc\": \"\", \"lonsrc\": \"\", \"marker\": {\"color\": \"rgb(124, 31, 180)\", \"opacity\": 0.56, \"sizemin\": 2}, \"mode\": \"markers\", \"textsrc\": \"\", \"type\": \"scattermapbox\"}], \"name\": \"2006\"}, {\"data\": [{\"latsrc\": \"\", \"lonsrc\": \"\", \"marker\": {\"color\": \"rgb(124, 31, 180)\", \"opacity\": 0.56, \"sizemin\": 2}, \"mode\": \"markers\", \"textsrc\": \"\", \"type\": \"scattermapbox\"}], \"name\": \"2007\"}, {\"data\": [{\"latsrc\": \"\", \"lonsrc\": \"\", \"marker\": {\"color\": \"rgb(124, 31, 180)\", \"opacity\": 0.56, \"sizemin\": 2}, \"mode\": \"markers\", \"textsrc\": \"\", \"type\": \"scattermapbox\"}], \"name\": \"2008\"}, {\"data\": [{\"latsrc\": \"\", \"lonsrc\": \"\", \"marker\": {\"color\": \"rgb(124, 31, 180)\", \"opacity\": 0.56, \"sizemin\": 2}, \"mode\": \"markers\", \"textsrc\": \"\", \"type\": \"scattermapbox\"}], \"name\": \"2009\"}, {\"data\": [{\"latsrc\": \"\", \"lonsrc\": \"\", \"marker\": {\"color\": \"rgb(124, 31, 180)\", \"opacity\": 0.56, \"sizemin\": 2}, \"mode\": \"markers\", \"textsrc\": \"\", \"type\": \"scattermapbox\"}], \"name\": \"2010\"}, {\"data\": [{\"latsrc\": \"\", \"lonsrc\": \"\", \"marker\": {\"color\": \"rgb(124, 31, 180)\", \"opacity\": 0.56, \"sizemin\": 2}, \"mode\": \"markers\", \"textsrc\": \"\", \"type\": \"scattermapbox\"}], \"name\": \"2011\"}, {\"data\": [{\"latsrc\": \"\", \"lonsrc\": \"\", \"marker\": {\"color\": \"rgb(124, 31, 180)\", \"opacity\": 0.56, \"sizemin\": 2}, \"mode\": \"markers\", \"textsrc\": \"\", \"type\": \"scattermapbox\"}], \"name\": \"2012\"}, {\"data\": [{\"latsrc\": \"\", \"lonsrc\": \"\", \"marker\": {\"color\": \"rgb(124, 31, 180)\", \"opacity\": 0.56, \"sizemin\": 2}, \"mode\": \"markers\", \"textsrc\": \"\", \"type\": \"scattermapbox\"}], \"name\": \"2013\"}, {\"data\": [{\"latsrc\": \"\", \"lonsrc\": \"\", \"marker\": {\"color\": \"rgb(124, 31, 180)\", \"opacity\": 0.56, \"sizemin\": 2}, \"mode\": \"markers\", \"textsrc\": \"\", \"type\": \"scattermapbox\"}], \"name\": \"2101\"}, {\"data\": [{\"latsrc\": \"\", \"lonsrc\": \"\", \"marker\": {\"color\": \"rgb(124, 31, 180)\", \"opacity\": 0.56, \"sizemin\": 2}, \"mode\": \"markers\", \"textsrc\": \"\", \"type\": \"scattermapbox\"}], \"name\": \"2501\"}]);}).then(function(){Plotly.animate('2e697325-bc86-4ea8-9745-7d7a592dab31');})\n",
       "        });</script><script type=\"text/javascript\">window.addEventListener(\"resize\", function(){window._Plotly.Plots.resize(document.getElementById(\"2e697325-bc86-4ea8-9745-7d7a592dab31\"));});</script>"
      ],
      "text/vnd.plotly.v1+html": [
       "<div id=\"2e697325-bc86-4ea8-9745-7d7a592dab31\" style=\"height: 525px; width: 100%;\" class=\"plotly-graph-div\"></div><script type=\"text/javascript\">require([\"plotly\"], function(Plotly) { window.PLOTLYENV=window.PLOTLYENV || {};window.PLOTLYENV.BASE_URL=\"https://plot.ly\";\n",
       "        Plotly.plot(\n",
       "            '2e697325-bc86-4ea8-9745-7d7a592dab31',\n",
       "            [{\"latsrc\": \"\", \"lonsrc\": \"\", \"marker\": {\"color\": \"rgb(124, 31, 180)\", \"opacity\": 0.56, \"sizemin\": 2}, \"mode\": \"markers\", \"textsrc\": \"\", \"type\": \"scattermapbox\", \"uid\": \"b1bd1716-83a3-4ba3-aadb-4cad7057b5a6\"}],\n",
       "            {\"autosize\": true, \"mapbox\": {\"accesstoken\": \"pk.eyJ1IjoiYW5kcmVlYTA4IiwiYSI6ImNqcXc4dzJicjBzcGQ0OW1xOGxhNG92YzMifQ.oVTjccSQQLufk2dM1HtKjw\"}, \"sliders\": [{\"active\": 0, \"currentvalue\": {\"font\": {\"size\": 20}, \"prefix\": \"Year:\", \"visible\": true, \"xanchor\": \"right\"}, \"len\": 0.9, \"pad\": {\"b\": 10, \"t\": 50}, \"steps\": [{\"args\": [[\"2006\"], {\"frame\": {\"duration\": 300, \"redraw\": true}, \"mode\": \"immediate\", \"transition\": {\"duration\": 300}}], \"label\": \"2006\", \"method\": \"animate\"}, {\"args\": [[\"2007\"], {\"frame\": {\"duration\": 300, \"redraw\": true}, \"mode\": \"immediate\", \"transition\": {\"duration\": 300}}], \"label\": \"2007\", \"method\": \"animate\"}, {\"args\": [[\"2008\"], {\"frame\": {\"duration\": 300, \"redraw\": true}, \"mode\": \"immediate\", \"transition\": {\"duration\": 300}}], \"label\": \"2008\", \"method\": \"animate\"}, {\"args\": [[\"2009\"], {\"frame\": {\"duration\": 300, \"redraw\": true}, \"mode\": \"immediate\", \"transition\": {\"duration\": 300}}], \"label\": \"2009\", \"method\": \"animate\"}, {\"args\": [[\"2010\"], {\"frame\": {\"duration\": 300, \"redraw\": true}, \"mode\": \"immediate\", \"transition\": {\"duration\": 300}}], \"label\": \"2010\", \"method\": \"animate\"}, {\"args\": [[\"2011\"], {\"frame\": {\"duration\": 300, \"redraw\": true}, \"mode\": \"immediate\", \"transition\": {\"duration\": 300}}], \"label\": \"2011\", \"method\": \"animate\"}, {\"args\": [[\"2012\"], {\"frame\": {\"duration\": 300, \"redraw\": true}, \"mode\": \"immediate\", \"transition\": {\"duration\": 300}}], \"label\": \"2012\", \"method\": \"animate\"}, {\"args\": [[\"2013\"], {\"frame\": {\"duration\": 300, \"redraw\": true}, \"mode\": \"immediate\", \"transition\": {\"duration\": 300}}], \"label\": \"2013\", \"method\": \"animate\"}, {\"args\": [[\"2101\"], {\"frame\": {\"duration\": 300, \"redraw\": true}, \"mode\": \"immediate\", \"transition\": {\"duration\": 300}}], \"label\": \"2101\", \"method\": \"animate\"}, {\"args\": [[\"2501\"], {\"frame\": {\"duration\": 300, \"redraw\": true}, \"mode\": \"immediate\", \"transition\": {\"duration\": 300}}], \"label\": \"2501\", \"method\": \"animate\"}, {\"args\": [[\"2006\"], {\"frame\": {\"duration\": 300, \"redraw\": true}, \"mode\": \"immediate\", \"transition\": {\"duration\": 300}}], \"label\": \"2006\", \"method\": \"animate\"}, {\"args\": [[\"2007\"], {\"frame\": {\"duration\": 300, \"redraw\": true}, \"mode\": \"immediate\", \"transition\": {\"duration\": 300}}], \"label\": \"2007\", \"method\": \"animate\"}, {\"args\": [[\"2008\"], {\"frame\": {\"duration\": 300, \"redraw\": true}, \"mode\": \"immediate\", \"transition\": {\"duration\": 300}}], \"label\": \"2008\", \"method\": \"animate\"}, {\"args\": [[\"2009\"], {\"frame\": {\"duration\": 300, \"redraw\": true}, \"mode\": \"immediate\", \"transition\": {\"duration\": 300}}], \"label\": \"2009\", \"method\": \"animate\"}, {\"args\": [[\"2010\"], {\"frame\": {\"duration\": 300, \"redraw\": true}, \"mode\": \"immediate\", \"transition\": {\"duration\": 300}}], \"label\": \"2010\", \"method\": \"animate\"}, {\"args\": [[\"2011\"], {\"frame\": {\"duration\": 300, \"redraw\": true}, \"mode\": \"immediate\", \"transition\": {\"duration\": 300}}], \"label\": \"2011\", \"method\": \"animate\"}, {\"args\": [[\"2012\"], {\"frame\": {\"duration\": 300, \"redraw\": true}, \"mode\": \"immediate\", \"transition\": {\"duration\": 300}}], \"label\": \"2012\", \"method\": \"animate\"}, {\"args\": [[\"2013\"], {\"frame\": {\"duration\": 300, \"redraw\": true}, \"mode\": \"immediate\", \"transition\": {\"duration\": 300}}], \"label\": \"2013\", \"method\": \"animate\"}, {\"args\": [[\"2101\"], {\"frame\": {\"duration\": 300, \"redraw\": true}, \"mode\": \"immediate\", \"transition\": {\"duration\": 300}}], \"label\": \"2101\", \"method\": \"animate\"}, {\"args\": [[\"2501\"], {\"frame\": {\"duration\": 300, \"redraw\": true}, \"mode\": \"immediate\", \"transition\": {\"duration\": 300}}], \"label\": \"2501\", \"method\": \"animate\"}, {\"args\": [[\"2006\"], {\"frame\": {\"duration\": 300, \"redraw\": true}, \"mode\": \"immediate\", \"transition\": {\"duration\": 300}}], \"label\": \"2006\", \"method\": \"animate\"}, {\"args\": [[\"2007\"], {\"frame\": {\"duration\": 300, \"redraw\": true}, \"mode\": \"immediate\", \"transition\": {\"duration\": 300}}], \"label\": \"2007\", \"method\": \"animate\"}, {\"args\": [[\"2008\"], {\"frame\": {\"duration\": 300, \"redraw\": true}, \"mode\": \"immediate\", \"transition\": {\"duration\": 300}}], \"label\": \"2008\", \"method\": \"animate\"}, {\"args\": [[\"2009\"], {\"frame\": {\"duration\": 300, \"redraw\": true}, \"mode\": \"immediate\", \"transition\": {\"duration\": 300}}], \"label\": \"2009\", \"method\": \"animate\"}, {\"args\": [[\"2010\"], {\"frame\": {\"duration\": 300, \"redraw\": true}, \"mode\": \"immediate\", \"transition\": {\"duration\": 300}}], \"label\": \"2010\", \"method\": \"animate\"}, {\"args\": [[\"2011\"], {\"frame\": {\"duration\": 300, \"redraw\": true}, \"mode\": \"immediate\", \"transition\": {\"duration\": 300}}], \"label\": \"2011\", \"method\": \"animate\"}, {\"args\": [[\"2012\"], {\"frame\": {\"duration\": 300, \"redraw\": true}, \"mode\": \"immediate\", \"transition\": {\"duration\": 300}}], \"label\": \"2012\", \"method\": \"animate\"}, {\"args\": [[\"2013\"], {\"frame\": {\"duration\": 300, \"redraw\": true}, \"mode\": \"immediate\", \"transition\": {\"duration\": 300}}], \"label\": \"2013\", \"method\": \"animate\"}, {\"args\": [[\"2101\"], {\"frame\": {\"duration\": 300, \"redraw\": true}, \"mode\": \"immediate\", \"transition\": {\"duration\": 300}}], \"label\": \"2101\", \"method\": \"animate\"}, {\"args\": [[\"2501\"], {\"frame\": {\"duration\": 300, \"redraw\": true}, \"mode\": \"immediate\", \"transition\": {\"duration\": 300}}], \"label\": \"2501\", \"method\": \"animate\"}], \"transition\": {\"duration\": 300, \"easing\": \"cubic-in-out\"}, \"x\": 0.1, \"xanchor\": \"left\", \"y\": 0, \"yanchor\": \"bottom\"}], \"xaxis\": {\"autorange\": true, \"range\": [-1, 6]}, \"yaxis\": {\"autorange\": true, \"range\": [-1, 4]}},\n",
       "            {\"showLink\": false, \"linkText\": \"Export to plot.ly\", \"plotlyServerURL\": \"https://plot.ly\"}\n",
       "        ).then(function () {return Plotly.addFrames('2e697325-bc86-4ea8-9745-7d7a592dab31',[{\"data\": [{\"latsrc\": \"\", \"lonsrc\": \"\", \"marker\": {\"color\": \"rgb(124, 31, 180)\", \"opacity\": 0.56, \"sizemin\": 2}, \"mode\": \"markers\", \"textsrc\": \"\", \"type\": \"scattermapbox\"}], \"name\": \"2006\"}, {\"data\": [{\"latsrc\": \"\", \"lonsrc\": \"\", \"marker\": {\"color\": \"rgb(124, 31, 180)\", \"opacity\": 0.56, \"sizemin\": 2}, \"mode\": \"markers\", \"textsrc\": \"\", \"type\": \"scattermapbox\"}], \"name\": \"2007\"}, {\"data\": [{\"latsrc\": \"\", \"lonsrc\": \"\", \"marker\": {\"color\": \"rgb(124, 31, 180)\", \"opacity\": 0.56, \"sizemin\": 2}, \"mode\": \"markers\", \"textsrc\": \"\", \"type\": \"scattermapbox\"}], \"name\": \"2008\"}, {\"data\": [{\"latsrc\": \"\", \"lonsrc\": \"\", \"marker\": {\"color\": \"rgb(124, 31, 180)\", \"opacity\": 0.56, \"sizemin\": 2}, \"mode\": \"markers\", \"textsrc\": \"\", \"type\": \"scattermapbox\"}], \"name\": \"2009\"}, {\"data\": [{\"latsrc\": \"\", \"lonsrc\": \"\", \"marker\": {\"color\": \"rgb(124, 31, 180)\", \"opacity\": 0.56, \"sizemin\": 2}, \"mode\": \"markers\", \"textsrc\": \"\", \"type\": \"scattermapbox\"}], \"name\": \"2010\"}, {\"data\": [{\"latsrc\": \"\", \"lonsrc\": \"\", \"marker\": {\"color\": \"rgb(124, 31, 180)\", \"opacity\": 0.56, \"sizemin\": 2}, \"mode\": \"markers\", \"textsrc\": \"\", \"type\": \"scattermapbox\"}], \"name\": \"2011\"}, {\"data\": [{\"latsrc\": \"\", \"lonsrc\": \"\", \"marker\": {\"color\": \"rgb(124, 31, 180)\", \"opacity\": 0.56, \"sizemin\": 2}, \"mode\": \"markers\", \"textsrc\": \"\", \"type\": \"scattermapbox\"}], \"name\": \"2012\"}, {\"data\": [{\"latsrc\": \"\", \"lonsrc\": \"\", \"marker\": {\"color\": \"rgb(124, 31, 180)\", \"opacity\": 0.56, \"sizemin\": 2}, \"mode\": \"markers\", \"textsrc\": \"\", \"type\": \"scattermapbox\"}], \"name\": \"2013\"}, {\"data\": [{\"latsrc\": \"\", \"lonsrc\": \"\", \"marker\": {\"color\": \"rgb(124, 31, 180)\", \"opacity\": 0.56, \"sizemin\": 2}, \"mode\": \"markers\", \"textsrc\": \"\", \"type\": \"scattermapbox\"}], \"name\": \"2101\"}, {\"data\": [{\"latsrc\": \"\", \"lonsrc\": \"\", \"marker\": {\"color\": \"rgb(124, 31, 180)\", \"opacity\": 0.56, \"sizemin\": 2}, \"mode\": \"markers\", \"textsrc\": \"\", \"type\": \"scattermapbox\"}], \"name\": \"2501\"}]);}).then(function(){Plotly.animate('2e697325-bc86-4ea8-9745-7d7a592dab31');})\n",
       "        });</script><script type=\"text/javascript\">window.addEventListener(\"resize\", function(){window._Plotly.Plots.resize(document.getElementById(\"2e697325-bc86-4ea8-9745-7d7a592dab31\"));});</script>"
      ]
     },
     "metadata": {},
     "output_type": "display_data"
    }
   ],
   "source": [
    "\n",
    "figure['data'].append(data_dict)\n",
    "iplot(figure)\n",
    "#plot_url = py.create_animations(figure, 'project'+str(time.time()))\n",
    "#plot_url"
   ]
  },
  {
   "cell_type": "code",
   "execution_count": null,
   "metadata": {},
   "outputs": [],
   "source": []
  }
 ],
 "metadata": {
  "kernelspec": {
   "display_name": "Python 3",
   "language": "python",
   "name": "python3"
  },
  "language_info": {
   "codemirror_mode": {
    "name": "ipython",
    "version": 3
   },
   "file_extension": ".py",
   "mimetype": "text/x-python",
   "name": "python",
   "nbconvert_exporter": "python",
   "pygments_lexer": "ipython3",
   "version": "3.6.5"
  }
 },
 "nbformat": 4,
 "nbformat_minor": 2
}
